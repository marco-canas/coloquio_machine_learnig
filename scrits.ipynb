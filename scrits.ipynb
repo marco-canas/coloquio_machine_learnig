{
 "cells": [
  {
   "cell_type": "code",
   "execution_count": null,
   "metadata": {
    "vscode": {
     "languageId": "plaintext"
    }
   },
   "outputs": [],
   "source": []
  },
  {
   "cell_type": "code",
   "execution_count": null,
   "metadata": {},
   "outputs": [
    {
     "name": "stdout",
     "output_type": "stream",
     "text": [
      "Carpetas creadas exitosamente.\n"
     ]
    }
   ],
   "source": [
    "import os\n",
    "\n",
    "# Ruta base donde se crearán las carpetas\n",
    "base_path = r\"C:\\Users\\marco\\Documentos\\extension\\ingenieria_sistemas_joseph\\1_CienciasBasicas\\1_Matematicas\\1_Algebra\"\n",
    "\n",
    "# Estructura del curso con unidades y sus ítems\n",
    "contenido_curso = {\n",
    "    \"Unidad 1 - Fundamentos de Álgebra\": [\n",
    "        \"Operaciones básicas con números reales\",\n",
    "        \"Expresiones algebraicas: simplificación y factorización\",\n",
    "        \"Resolución de ecuaciones lineales y cuadráticas\",\n",
    "        \"Inecuaciones y su representación gráfica\"\n",
    "    ],\n",
    "    \"Unidad 2 - Sistemas de Ecuaciones\": [\n",
    "        \"Métodos gráficos, sustitución y eliminación\",\n",
    "        \"Sistemas no lineales\",\n",
    "        \"Aplicaciones en ingeniería\"\n",
    "    ],\n",
    "    \"Unidad 3 - Funciones Matemáticas\": [\n",
    "        \"Concepto de función\",\n",
    "        \"Tipos de funciones\",\n",
    "        \"Transformaciones de funciones\",\n",
    "        \"Composición e inversión de funciones\"\n",
    "    ],\n",
    "    \"Unidad 4 - Trigonometría\": [\n",
    "        \"Razones trigonométricas\",\n",
    "        \"Identidades trigonométricas\",\n",
    "        \"Resolución de triángulos\",\n",
    "        \"Gráficas de funciones trigonométricas\"\n",
    "    ],\n",
    "    \"Unidad 5 - Introducción a la Modelación Matemática\": [\n",
    "        \"Modelado de sistemas reales\",\n",
    "        \"Ejercicios prácticos con Python\",\n",
    "        \"Introducción a Jupyter Notebooks\"\n",
    "    ]\n",
    "}\n",
    "\n",
    "# Función para limpiar nombres de directorios eliminando caracteres inválidos\n",
    "def limpiar_nombre(nombre):\n",
    "    caracteres_invalidos = ['<', '>', ':', '\"', '/', '\\\\', '|', '?', '*']\n",
    "    for char in caracteres_invalidos:\n",
    "        nombre = nombre.replace(char, \"_\")  # Sustituir caracteres inválidos por \"_\"\n",
    "    return nombre\n",
    "\n",
    "# Crear las carpetas principales y sus subcarpetas\n",
    "def crear_carpetas(base_path, contenido):\n",
    "    for unidad, temas in contenido.items():\n",
    "        # Limpiar el nombre de la unidad\n",
    "        unidad_limpia = limpiar_nombre(unidad)\n",
    "        # Crear carpeta para la unidad\n",
    "        unidad_path = os.path.join(base_path, unidad_limpia)\n",
    "        os.makedirs(unidad_path, exist_ok=True)\n",
    "        \n",
    "        # Crear subcarpetas para cada ítem de la unidad\n",
    "        for item, tema in enumerate(temas):\n",
    "            # Limpiar el nombre del tema\n",
    "            tema_limpio = limpiar_nombre(str(item+1) + \"_\"  + tema)\n",
    "            tema_path = os.path.join(unidad_path, tema_limpio)\n",
    "            os.makedirs(tema_path, exist_ok=True)\n",
    "\n",
    "# Llamar a la función para crear las carpetas\n",
    "crear_carpetas(base_path, contenido_curso)\n",
    "\n",
    "print(\"Carpetas creadas exitosamente.\")\n"
   ]
  },
  {
   "cell_type": "code",
   "execution_count": null,
   "metadata": {
    "vscode": {
     "languageId": "plaintext"
    }
   },
   "outputs": [],
   "source": []
  },
  {
   "cell_type": "code",
   "execution_count": null,
   "metadata": {
    "vscode": {
     "languageId": "plaintext"
    }
   },
   "outputs": [],
   "source": []
  }
 ],
 "metadata": {
  "language_info": {
   "name": "python"
  }
 },
 "nbformat": 4,
 "nbformat_minor": 2
}
